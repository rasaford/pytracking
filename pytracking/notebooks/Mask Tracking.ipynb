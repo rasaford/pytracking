{
 "cells": [
  {
   "cell_type": "code",
   "execution_count": 3,
   "id": "afbe9029",
   "metadata": {},
   "outputs": [],
   "source": [
    "import sys\n",
    "sys.path.append(\"../../\") # go to project root dir\n",
    "from pytracking.evaluation import Tracker"
   ]
  },
  {
   "cell_type": "markdown",
   "id": "a27d39ce",
   "metadata": {},
   "source": [
    "## Create the mask tracker"
   ]
  },
  {
   "cell_type": "code",
   "execution_count": 26,
   "id": "cb9bbb0c",
   "metadata": {
    "scrolled": true
   },
   "outputs": [],
   "source": [
    "tracker_name = \"rts\"\n",
    "tracker_param = \"rts50\"\n",
    "video_path = \"/home/asl-student-mf/datasets/baking-in-the-feature/scenes/doughnut1/doughnut1.mp4\"\n",
    "dataset_root = \"/home/asl-student-mf/datasets/baking-in-the-feature\"\n",
    "sequences = [\"doughnut1\"]\n",
    "mask_path = \"\"\n",
    "save_results = True\n",
    "debug = 0\n",
    "\n",
    "tracker = Tracker(tracker_name, tracker_param)"
   ]
  },
  {
   "cell_type": "code",
   "execution_count": 27,
   "id": "7e7a90a8",
   "metadata": {},
   "outputs": [],
   "source": [
    "from ltr.dataset.vos_base import VOSDatasetBase, VOSMeta\n",
    "from ltr.data.image_loader import jpeg4py_loader\n",
    "from pathlib import Path\n",
    "\n",
    "class BakingInTheFeature(VOSDatasetBase):\n",
    "    def __init__(self, root, sequences=None, image_loader=jpeg4py_loader):\n",
    "        super().__init__(name=\"BakingInTheFeature\", root=Path(root), split=\"train\", \n",
    "                         multiobj=False, vis_threshold=10, image_loader=image_loader)\n",
    "        dset_path = self.root\n",
    "        self.gmeta = VOSMeta.generate(\"BakingInTheFeature\", )\n",
    "        \n",
    "        print(\"%s loaded.\" % self.get_name())\n",
    "    \n",
    "    \n",
    "datset =  BakingInTheFeature(os.path.abspath(dataset_root), sequences)"
   ]
  }
 ],
 "metadata": {
  "kernelspec": {
   "display_name": "Python [conda env:pytracking] *",
   "language": "python",
   "name": "conda-env-pytracking-py"
  },
  "language_info": {
   "codemirror_mode": {
    "name": "ipython",
    "version": 3
   },
   "file_extension": ".py",
   "mimetype": "text/x-python",
   "name": "python",
   "nbconvert_exporter": "python",
   "pygments_lexer": "ipython3",
   "version": "3.7.13"
  }
 },
 "nbformat": 4,
 "nbformat_minor": 5
}
